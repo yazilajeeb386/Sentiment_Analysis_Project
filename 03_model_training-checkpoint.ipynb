{
 "cells": [
  {
   "cell_type": "code",
   "execution_count": 2,
   "id": "f6a57311-556b-467b-8e41-a69faaa65761",
   "metadata": {},
   "outputs": [
    {
     "name": "stdout",
     "output_type": "stream",
     "text": [
      "📊 Loaded 50000 processed reviews\n"
     ]
    }
   ],
   "source": [
    "import pandas as pd\n",
    "import numpy as np\n",
    "from sklearn.feature_extraction.text import TfidfVectorizer,CountVectorizer\n",
    "from sklearn.model_selection import train_test_split, cross_val_score\n",
    "from sklearn.linear_model import LogisticRegression\n",
    "from sklearn.naive_bayes import MultinomialNB\n",
    "from sklearn.svm import SVC\n",
    "from sklearn.ensemble import RandomForestClassifier\n",
    "from sklearn.metrics import accuracy_score, classification_report,confusion_matrix\n",
    "import matplotlib.pyplot as plt\n",
    "import seaborn as sns\n",
    "import joblib\n",
    "df = pd.read_csv('data/processed/processed_reviews.csv')\n",
    "print(f\"📊 Loaded {len(df)} processed reviews\")"
   ]
  },
  {
   "cell_type": "code",
   "execution_count": 3,
   "id": "afe5e277-244f-4166-80d7-3b18685a6030",
   "metadata": {},
   "outputs": [
    {
     "name": "stdout",
     "output_type": "stream",
     "text": [
      "📈 Training set size: 40000\n",
      "📉 Test set size: 10000\n",
      "\n",
      "🔄 Creating TF-IDF features...\n",
      "✅ Feature matrix shape: (40000, 10000)\n",
      "📝 Feature names sample: ['aaron' 'abandon' 'abandoned' 'abbott' 'abc' 'ability' 'able' 'able get'\n",
      " 'able make' 'able see']\n"
     ]
    }
   ],
   "source": [
    "X = df['processed_review']\n",
    "y = df['sentiment']\n",
    "X_train, X_test, y_train, y_test = train_test_split(X, y, test_size=0.2,\n",
    "random_state=42, stratify=y)\n",
    "\n",
    "print(f\"📈 Training set size: {len(X_train)}\")\n",
    "print(f\"📉 Test set size: {len(X_test)}\")\n",
    "print(\"\\n🔄 Creating TF-IDF features...\")\n",
    "tfidf = TfidfVectorizer(max_features=10000, ngram_range=(1, 2), min_df=2,\n",
    "max_df=0.95)\n",
    "X_train_tfidf = tfidf.fit_transform(X_train)\n",
    "X_test_tfidf = tfidf.transform(X_test)\n",
    "\n",
    "print(f\"✅ Feature matrix shape: {X_train_tfidf.shape}\")\n",
    "print(f\"📝 Feature names sample: {tfidf.get_feature_names_out()[:10]}\")\n"
   ]
  },
  {
   "cell_type": "code",
   "execution_count": 4,
   "id": "e7ce71ff-d708-4f57-9378-39f2ec67c242",
   "metadata": {},
   "outputs": [
    {
     "name": "stdout",
     "output_type": "stream",
     "text": [
      "\n",
      "🔄 Training Logistic Regression...\n",
      "✅ Logistic Regression - CV: 0.8900(±0.0039), Test: 0.8924\n",
      "\n",
      "🔄 Training Naive Bayes...\n",
      "✅ Naive Bayes - CV: 0.8649(±0.0025), Test: 0.8665\n",
      "\n",
      "🔄 Training Random Forest...\n",
      "✅ Random Forest - CV: 0.8486(±0.0043), Test: 0.8489\n",
      "\n",
      "🔄 Training SVM...\n",
      "✅ SVM - CV: 0.8826(±0.0034), Test: 0.8841\n"
     ]
    },
    {
     "data": {
      "text/html": [
       "<div>\n",
       "<style scoped>\n",
       "    .dataframe tbody tr th:only-of-type {\n",
       "        vertical-align: middle;\n",
       "    }\n",
       "\n",
       "    .dataframe tbody tr th {\n",
       "        vertical-align: top;\n",
       "    }\n",
       "\n",
       "    .dataframe thead th {\n",
       "        text-align: right;\n",
       "    }\n",
       "</style>\n",
       "<table border=\"1\" class=\"dataframe\">\n",
       "  <thead>\n",
       "    <tr style=\"text-align: right;\">\n",
       "      <th></th>\n",
       "      <th>CV Mean</th>\n",
       "      <th>CV Std</th>\n",
       "      <th>Test Accuracy</th>\n",
       "    </tr>\n",
       "  </thead>\n",
       "  <tbody>\n",
       "    <tr>\n",
       "      <th>Logistic Regression</th>\n",
       "      <td>0.890025</td>\n",
       "      <td>0.003914</td>\n",
       "      <td>0.8924</td>\n",
       "    </tr>\n",
       "    <tr>\n",
       "      <th>Naive Bayes</th>\n",
       "      <td>0.864900</td>\n",
       "      <td>0.002461</td>\n",
       "      <td>0.8665</td>\n",
       "    </tr>\n",
       "    <tr>\n",
       "      <th>Random Forest</th>\n",
       "      <td>0.848550</td>\n",
       "      <td>0.004251</td>\n",
       "      <td>0.8489</td>\n",
       "    </tr>\n",
       "    <tr>\n",
       "      <th>SVM</th>\n",
       "      <td>0.882575</td>\n",
       "      <td>0.003386</td>\n",
       "      <td>0.8841</td>\n",
       "    </tr>\n",
       "  </tbody>\n",
       "</table>\n",
       "</div>"
      ],
      "text/plain": [
       "                      CV Mean    CV Std  Test Accuracy\n",
       "Logistic Regression  0.890025  0.003914         0.8924\n",
       "Naive Bayes          0.864900  0.002461         0.8665\n",
       "Random Forest        0.848550  0.004251         0.8489\n",
       "SVM                  0.882575  0.003386         0.8841"
      ]
     },
     "metadata": {},
     "output_type": "display_data"
    }
   ],
   "source": [
    "from sklearn.svm import LinearSVC\n",
    "\n",
    "models = {\n",
    "    'Logistic Regression': LogisticRegression(random_state=42, max_iter=1000),\n",
    "    'Naive Bayes': MultinomialNB(),\n",
    "    'Random Forest': RandomForestClassifier(n_estimators=100, random_state=42),\n",
    "    'SVM': LinearSVC(random_state=42, max_iter=10000)\n",
    "}\n",
    "\n",
    "results = {}\n",
    "trained_models = {}\n",
    "\n",
    "for name, model in models.items():\n",
    "    print(f\"\\n🔄 Training {name}...\")\n",
    "    model.fit(X_train_tfidf, y_train)\n",
    "    trained_models[name] = model\n",
    "    cv_scores = cross_val_score(model, X_train_tfidf, y_train, cv=5, scoring='accuracy')\n",
    "    y_pred = model.predict(X_test_tfidf)\n",
    "    test_accuracy = accuracy_score(y_test, y_pred)\n",
    "    results[name] = {\n",
    "        'CV Mean': cv_scores.mean(),\n",
    "        'CV Std': cv_scores.std(),\n",
    "        'Test Accuracy': test_accuracy\n",
    "    }\n",
    "    print(f\"✅ {name} - CV: {cv_scores.mean():.4f}(±{cv_scores.std():.4f}), Test: {test_accuracy:.4f}\")\n",
    "\n",
    "results_df = pd.DataFrame(results).T\n",
    "display(results_df)"
   ]
  },
  {
   "cell_type": "code",
   "execution_count": 5,
   "id": "fb8840b9-0bb0-44f0-889c-f4a4376a79ce",
   "metadata": {},
   "outputs": [
    {
     "name": "stdout",
     "output_type": "stream",
     "text": [
      "🏆 Best Model: Logistic Regression\n",
      "🎯 Test Accuracy: 0.8924\n",
      "\n",
      "📊 Detailed Classification Report:\n",
      "              precision    recall  f1-score   support\n",
      "\n",
      "    negative       0.90      0.88      0.89      5000\n",
      "    positive       0.88      0.90      0.89      5000\n",
      "\n",
      "    accuracy                           0.89     10000\n",
      "   macro avg       0.89      0.89      0.89     10000\n",
      "weighted avg       0.89      0.89      0.89     10000\n",
      "\n"
     ]
    },
    {
     "data": {
      "image/png": "[encoded data removed]",
      "text/plain": [
       "<Figure size 800x600 with 2 Axes>"
      ]
     },
     "metadata": {},
     "output_type": "display_data"
    },
    {
     "name": "stdout",
     "output_type": "stream",
     "text": [
      "\n",
      "📈 Top 10 Positive Sentiment Features:\n",
      " great: 7.0817\n",
      " excellent: 6.5708\n",
      " perfect: 5.4943\n",
      " amazing: 4.8601\n",
      " wonderful: 4.6559\n",
      " best: 4.5620\n",
      " hilarious: 4.4679\n",
      " loved: 4.3118\n",
      " favorite: 4.2453\n",
      " one best: 4.1047\n",
      "\n",
      "📉 Top 10 Negative Sentiment Features:\n",
      " worst: -9.1885\n",
      " bad: -7.7434\n",
      " awful: -7.6422\n",
      " waste: -6.9277\n",
      " boring: -6.1204\n",
      " poor: -5.7520\n",
      " terrible: -5.5533\n",
      " nothing: -5.4741\n",
      " worse: -5.0422\n",
      " dull: -5.0040\n"
     ]
    }
   ],
   "source": [
    "best_model_name = results_df['Test Accuracy'].idxmax()\n",
    "best_model = trained_models[best_model_name]\n",
    "print(f\"🏆 Best Model: {best_model_name}\")\n",
    "print(f\"🎯 Test Accuracy: {results_df.loc[best_model_name, 'Test Accuracy']:.4f}\")\n",
    "y_pred = best_model.predict(X_test_tfidf)\n",
    "y_pred_proba = best_model.predict_proba(X_test_tfidf)\n",
    "print(f\"\\n📊 Detailed Classification Report:\")\n",
    "print(classification_report(y_test, y_pred))\n",
    "cm = confusion_matrix(y_test, y_pred)\n",
    "plt.figure(figsize=(8, 6))\n",
    "sns.heatmap(cm, annot=True, fmt='d', cmap='Blues',\n",
    "            xticklabels=['Negative', 'Positive'],\n",
    "            yticklabels=['Negative', 'Positive'])\n",
    "plt.title(f'Confusion Matrix - {best_model_name}')\n",
    "plt.xlabel('Predicted')\n",
    "plt.ylabel('Actual')\n",
    "plt.show()\n",
    "if best_model_name == 'Logistic Regression':\n",
    "    feature_names = tfidf.get_feature_names_out()\n",
    "    coefficients = best_model.coef_[0]\n",
    "    top_positive = np.argsort(coefficients)[-10:]\n",
    "    top_negative = np.argsort(coefficients)[:10]\n",
    "    print(\"\\n📈 Top 10 Positive Sentiment Features:\")\n",
    "    for i in reversed(top_positive):\n",
    "        print(f\" {feature_names[i]}: {coefficients[i]:.4f}\")\n",
    "    print(\"\\n📉 Top 10 Negative Sentiment Features:\")\n",
    "    for i in top_negative:\n",
    "        print(f\" {feature_names[i]}: {coefficients[i]:.4f}\")"
   ]
  },
  {
   "cell_type": "code",
   "execution_count": 6,
   "id": "68c2e723-e31b-46e6-b98d-cb742c153e46",
   "metadata": {},
   "outputs": [
    {
     "name": "stdout",
     "output_type": "stream",
     "text": [
      "💾 Model saved:models/best_sentiment_model_logistic_regression.pkl\n",
      "💾 Vectorizer saved: models/tfidf_vectorizer.pkl\n"
     ]
    }
   ],
   "source": [
    "joblib.dump(best_model,f'models/best_sentiment_model_{best_model_name.lower().replace(\" \",\"_\")}.pkl')\n",
    "joblib.dump(tfidf, 'models/tfidf_vectorizer.pkl')\n",
    "\n",
    "print(f\"💾 Model saved:models/best_sentiment_model_{best_model_name.lower().replace(' ','_')}.pkl\")\n",
    "print(f\"💾 Vectorizer saved: models/tfidf_vectorizer.pkl\")"
   ]
  },
  {
   "cell_type": "code",
   "execution_count": 7,
   "id": "8110feed-b84b-4a19-9adc-082094933f27",
   "metadata": {},
   "outputs": [],
   "source": [
    "model_info = {\n",
    "'model_type': best_model_name,\n",
    "'test_accuracy': results_df.loc[best_model_name, 'Test Accuracy'],\n",
    "'cv_mean': results_df.loc[best_model_name, 'CV Mean'],\n",
    "'cv_std': results_df.loc[best_model_name, 'CV Std'],\n",
    "\n",
    "'features': X_train_tfidf.shape[1]\n",
    "}"
   ]
  },
  {
   "cell_type": "code",
   "execution_count": 8,
   "id": "43d4cab9-e8a3-4e9e-90e8-1f5c82ec79f6",
   "metadata": {},
   "outputs": [
    {
     "name": "stdout",
     "output_type": "stream",
     "text": [
      "📋 Model information saved to models/model_info.json\n"
     ]
    }
   ],
   "source": [
    "import json\n",
    "with open('models/model_info.json', 'w') as f:json.dump(model_info, f, indent=2)\n",
    "print(\"📋 Model information saved to models/model_info.json\")"
   ]
  }
 ],
 "metadata": {
  "kernelspec": {
   "display_name": "Python 3 (ipykernel)",
   "language": "python",
   "name": "python3"
  },
  "language_info": {
   "codemirror_mode": {
    "name": "ipython",
    "version": 3
   },
   "file_extension": ".py",
   "mimetype": "text/x-python",
   "name": "python",
   "nbconvert_exporter": "python",
   "pygments_lexer": "ipython3",
   "version": "3.13.7"
  }
 },
 "nbformat": 4,
 "nbformat_minor": 5
}
